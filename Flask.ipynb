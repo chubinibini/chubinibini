{
  "cells": [
    {
      "cell_type": "markdown",
      "metadata": {
        "id": "view-in-github",
        "colab_type": "text"
      },
      "source": [
        "<a href=\"https://colab.research.google.com/github/chubinibini/chubinibini/blob/main/Flask.ipynb\" target=\"_parent\"><img src=\"https://colab.research.google.com/assets/colab-badge.svg\" alt=\"Open In Colab\"/></a>"
      ]
    },
    {
      "cell_type": "markdown",
      "metadata": {
        "id": "4Mlbhmy-h5Us"
      },
      "source": [
        "# Flask 연습 및 실습 코드"
      ]
    },
    {
      "cell_type": "markdown",
      "source": [
        "## Flask 설치\n",
        "로컬 환경에서는 flask만 설치해 주면 가능하지만, colab이라는 특수 환경에서는 flask-ngrok을 추가적으로 설치 해 주어야 합니다."
      ],
      "metadata": {
        "id": "4FDBP7dBoxDF"
      }
    },
    {
      "cell_type": "code",
      "execution_count": 1,
      "metadata": {
        "colab": {
          "base_uri": "https://localhost:8080/"
        },
        "id": "YviM8dRKGMuJ",
        "outputId": "16f092cc-8a6b-48c4-c45c-d1de35964df7"
      },
      "outputs": [
        {
          "output_type": "stream",
          "name": "stdout",
          "text": [
            "Completed!\n"
          ]
        }
      ],
      "source": [
        "!pip install flask --quiet\n",
        "!pip install flask-ngrok --quiet\n",
        "print(\"Completed!\")"
      ]
    },
    {
      "cell_type": "code",
      "execution_count": 2,
      "metadata": {
        "colab": {
          "base_uri": "https://localhost:8080/"
        },
        "id": "Bt6adqccrleE",
        "outputId": "20274d6b-9a72-4c2d-a5ae-7c6a39cda75c"
      },
      "outputs": [
        {
          "output_type": "stream",
          "name": "stdout",
          "text": [
            "--2022-11-19 06:07:00--  https://bin.equinox.io/c/4VmDzA7iaHb/ngrok-stable-linux-amd64.tgz\n",
            "Resolving bin.equinox.io (bin.equinox.io)... 52.202.168.65, 54.237.133.81, 54.161.241.46, ...\n",
            "Connecting to bin.equinox.io (bin.equinox.io)|52.202.168.65|:443... connected.\n",
            "HTTP request sent, awaiting response... 200 OK\n",
            "Length: 13770165 (13M) [application/octet-stream]\n",
            "Saving to: ‘ngrok-stable-linux-amd64.tgz’\n",
            "\n",
            "ngrok-stable-linux- 100%[===================>]  13.13M  62.1MB/s    in 0.2s    \n",
            "\n",
            "2022-11-19 06:07:01 (62.1 MB/s) - ‘ngrok-stable-linux-amd64.tgz’ saved [13770165/13770165]\n",
            "\n"
          ]
        }
      ],
      "source": [
        "# ngrok website에서 linux 버전 ngrok 설치 - https://dashboard.ngrok.com/get-started/setup\n",
        "\n",
        "!wget https://bin.equinox.io/c/4VmDzA7iaHb/ngrok-stable-linux-amd64.tgz"
      ]
    },
    {
      "cell_type": "code",
      "execution_count": 3,
      "metadata": {
        "colab": {
          "base_uri": "https://localhost:8080/"
        },
        "id": "HjXgK2knrn7E",
        "outputId": "081c3e1a-e167-47eb-fd55-ab2da442b824"
      },
      "outputs": [
        {
          "output_type": "stream",
          "name": "stdout",
          "text": [
            "ngrok\n"
          ]
        }
      ],
      "source": [
        "# linux ngrok을 설치 후 압축을 풀어주는 과정\n",
        "\n",
        "!tar -xvf /content/ngrok-stable-linux-amd64.tgz"
      ]
    },
    {
      "cell_type": "markdown",
      "source": [
        "ngrok flask를 사용하기 위해서는 자신의 계정 생성이 필요합니다.\n",
        "\n",
        "https://ngrok.com/\n",
        "\n",
        "위 주소로 접속하여 계정 생성 후 자신의 Authtoken을 찾아줍니다."
      ],
      "metadata": {
        "id": "mFog0FNyoXra"
      }
    },
    {
      "cell_type": "code",
      "execution_count": 4,
      "metadata": {
        "colab": {
          "base_uri": "https://localhost:8080/"
        },
        "id": "K6bjHKYRrqEp",
        "outputId": "fe34d736-c1a2-47b4-89e2-ce1a8654bb25"
      },
      "outputs": [
        {
          "output_type": "stream",
          "name": "stdout",
          "text": [
            "Authtoken saved to configuration file: /root/.ngrok2/ngrok.yml\n"
          ]
        }
      ],
      "source": [
        "# ngrok 홈페이지 계정 생성 후 자신의 Authtoken을 입력해 주어야 사용 가능\n",
        "\n",
        "!./ngrok authtoken 2Hkm03Sp53hlHejclCqKDf2t0Pm_5xVVCui1sjXMLDTYQj1kU"
      ]
    },
    {
      "cell_type": "code",
      "execution_count": 5,
      "metadata": {
        "id": "6VlTEFD8G9G2"
      },
      "outputs": [],
      "source": [
        "# import Flask from flask module\n",
        "from flask import Flask\n",
        "\n",
        "# import run_with_ngrok from flask_ngrok to run the app using ngrok\n",
        "from flask_ngrok import run_with_ngrok"
      ]
    },
    {
      "cell_type": "markdown",
      "source": [
        "# Flask 시작하기\n",
        "내가 만든 웹사이트 접속하기"
      ],
      "metadata": {
        "id": "wbSJybZkqaxB"
      }
    },
    {
      "cell_type": "code",
      "execution_count": 6,
      "metadata": {
        "id": "6mZQEGK4N0xN",
        "colab": {
          "base_uri": "https://localhost:8080/"
        },
        "outputId": "c2066d1a-7990-4ce4-f9b1-b90a8cf06b07"
      },
      "outputs": [
        {
          "output_type": "stream",
          "name": "stdout",
          "text": [
            " * Serving Flask app \"__main__\" (lazy loading)\n",
            " * Environment: production\n",
            "\u001b[31m   WARNING: This is a development server. Do not use it in a production deployment.\u001b[0m\n",
            "\u001b[2m   Use a production WSGI server instead.\u001b[0m\n",
            " * Debug mode: off\n"
          ]
        },
        {
          "output_type": "stream",
          "name": "stderr",
          "text": [
            "INFO:werkzeug: * Running on http://127.0.0.1:5000/ (Press CTRL+C to quit)\n"
          ]
        },
        {
          "output_type": "stream",
          "name": "stdout",
          "text": [
            " * Running on http://ae30-35-221-33-212.ngrok.io\n",
            " * Traffic stats available on http://127.0.0.1:4040\n"
          ]
        },
        {
          "output_type": "stream",
          "name": "stderr",
          "text": [
            "INFO:werkzeug:127.0.0.1 - - [19/Nov/2022 06:07:38] \"\u001b[37mGET / HTTP/1.1\u001b[0m\" 200 -\n",
            "INFO:werkzeug:127.0.0.1 - - [19/Nov/2022 06:07:38] \"\u001b[33mGET /favicon.ico HTTP/1.1\u001b[0m\" 404 -\n"
          ]
        }
      ],
      "source": [
        "app = Flask(__name__)\n",
        "run_with_ngrok(app)\n",
        "\n",
        "@app.route('/')\n",
        "def home():\n",
        "     return f\"<h1>Welcome to hello world<h1/>\"\n",
        "\n",
        "app.run()"
      ]
    },
    {
      "cell_type": "code",
      "source": [
        "from google.colab import drive\n",
        "drive.mount('/content/drive')"
      ],
      "metadata": {
        "colab": {
          "base_uri": "https://localhost:8080/"
        },
        "id": "bNIruDu6eocy",
        "outputId": "3d364ab5-f0e9-47db-8174-86ce76f46fe4"
      },
      "execution_count": 7,
      "outputs": [
        {
          "output_type": "stream",
          "name": "stdout",
          "text": [
            "Mounted at /content/drive\n"
          ]
        }
      ]
    },
    {
      "cell_type": "markdown",
      "source": [
        "## Routing\n",
        "폴더 내에 파일 주소를 할당하듯이 각각 routing된 url 하나를 하나의 HTML파일로 생각해서 진행하게 됩니다. \n",
        "\n",
        "이 부분에서 각각의 정의된 함수와 그 output을 HTML형식의 출력물로 내보내 주어 파일을 만들 수 있고 그 과정에서의 변수를 꺽쇠를 이용하여 입력값으로 사용할 수 있습니다."
      ],
      "metadata": {
        "id": "hZ3p4W5MqgOA"
      }
    },
    {
      "cell_type": "code",
      "execution_count": 8,
      "metadata": {
        "id": "6p-JyPkCs1w7",
        "colab": {
          "base_uri": "https://localhost:8080/"
        },
        "outputId": "b6c8c01b-9929-4839-b335-5886154ed861"
      },
      "outputs": [
        {
          "output_type": "stream",
          "name": "stdout",
          "text": [
            " * Serving Flask app \"__main__\" (lazy loading)\n",
            " * Environment: production\n",
            "\u001b[31m   WARNING: This is a development server. Do not use it in a production deployment.\u001b[0m\n",
            "\u001b[2m   Use a production WSGI server instead.\u001b[0m\n",
            " * Debug mode: off\n"
          ]
        },
        {
          "output_type": "stream",
          "name": "stderr",
          "text": [
            "INFO:werkzeug: * Running on http://127.0.0.1:5000/ (Press CTRL+C to quit)\n"
          ]
        },
        {
          "output_type": "stream",
          "name": "stdout",
          "text": [
            " * Running on http://3502-35-221-33-212.ngrok.io\n",
            " * Traffic stats available on http://127.0.0.1:4040\n"
          ]
        }
      ],
      "source": [
        "app = Flask(__name__)\n",
        "run_with_ngrok(app)\n",
        "\n",
        "@app.route('/')\n",
        "def home():\n",
        "     return f\"<h1>This is your main homepage!</h1>\"\n",
        "\n",
        "@app.route('/create/')\n",
        "def create():\n",
        "     return f\"<h1>Welcome to create homepage!</h1>\"\n",
        "\n",
        "@app.route('/readid/')\n",
        "def read():\n",
        "     return f\"<h1>Welcome to readid homepage! If you want readid, change your id url</h1>\"\n",
        "\n",
        "@app.route('/readid/<id>/')\n",
        "def readid(id):\n",
        "     return f\"<h1>Welcome to readid homepage! Hello {id}!</h1>\"\n",
        "\n",
        "app.run()"
      ]
    },
    {
      "cell_type": "markdown",
      "source": [
        "python의 변수를 활용해서 입력된 변수에 맞게 서로 다른 페이지로 손쉽게 이동할 수 있도록 만듭니다."
      ],
      "metadata": {
        "id": "QpAJP-P05yIF"
      }
    },
    {
      "cell_type": "code",
      "execution_count": 9,
      "metadata": {
        "colab": {
          "base_uri": "https://localhost:8080/"
        },
        "id": "wLNYAYzcXndt",
        "outputId": "6eee2afa-9441-4cd7-d552-98fe5b2cf6ca"
      },
      "outputs": [
        {
          "output_type": "stream",
          "name": "stdout",
          "text": [
            " * Serving Flask app \"__main__\" (lazy loading)\n",
            " * Environment: production\n",
            "\u001b[31m   WARNING: This is a development server. Do not use it in a production deployment.\u001b[0m\n",
            "\u001b[2m   Use a production WSGI server instead.\u001b[0m\n",
            " * Debug mode: off\n"
          ]
        },
        {
          "output_type": "stream",
          "name": "stderr",
          "text": [
            "INFO:werkzeug: * Running on http://127.0.0.1:5000/ (Press CTRL+C to quit)\n"
          ]
        },
        {
          "output_type": "stream",
          "name": "stdout",
          "text": [
            " * Running on http://368f-35-221-33-212.ngrok.io\n",
            " * Traffic stats available on http://127.0.0.1:4040\n"
          ]
        }
      ],
      "source": [
        "app = Flask(__name__)\n",
        "run_with_ngrok(app)\n",
        "\n",
        "@app.route('/')\n",
        "def home():\n",
        "     return f'''<!doctype html>\n",
        "     <html>\n",
        "      <body>\n",
        "        <h1>Welcome to your homepage</h1>\n",
        "        <ol>\n",
        "          <li><a href = \"/read/1/\">Click this part!</a></li>\n",
        "          <li><a href = \"/read/2/\">Now, click this part!</a></li>\n",
        "          <li><a href = \"/read/3/\">New part!</a></li>\n",
        "        </ol>\n",
        "      '''\n",
        "\n",
        "@app.route('/read/<id>/')\n",
        "def readid(id):\n",
        "     return f\"<h1>This is main body contents! Hello {id}!</h1>\"\n",
        "\n",
        "app.run()"
      ]
    },
    {
      "cell_type": "markdown",
      "source": [
        "## Python 문법 사용\n",
        "파이썬의 속성인 list, dict를 이용해서도 각각에 필요한 HTML코드에 추가해 줄 수 있으며 이를 이용하여 코드를 단축시킬 수 있다."
      ],
      "metadata": {
        "id": "Mb5iZEdM6A9d"
      }
    },
    {
      "cell_type": "code",
      "execution_count": 10,
      "metadata": {
        "id": "u4YvuaXkZdPU",
        "colab": {
          "base_uri": "https://localhost:8080/"
        },
        "outputId": "cb4e8aef-0201-4977-ebbf-6aa679a79f0f"
      },
      "outputs": [
        {
          "output_type": "stream",
          "name": "stdout",
          "text": [
            " * Serving Flask app \"__main__\" (lazy loading)\n",
            " * Environment: production\n",
            "\u001b[31m   WARNING: This is a development server. Do not use it in a production deployment.\u001b[0m\n",
            "\u001b[2m   Use a production WSGI server instead.\u001b[0m\n",
            " * Debug mode: off\n"
          ]
        },
        {
          "output_type": "stream",
          "name": "stderr",
          "text": [
            "INFO:werkzeug: * Running on http://127.0.0.1:5000/ (Press CTRL+C to quit)\n"
          ]
        },
        {
          "output_type": "stream",
          "name": "stdout",
          "text": [
            " * Running on http://556c-35-221-33-212.ngrok.io\n",
            " * Traffic stats available on http://127.0.0.1:4040\n"
          ]
        }
      ],
      "source": [
        "app = Flask(__name__)\n",
        "run_with_ngrok(app)\n",
        "\n",
        "clicks = [\n",
        "    {'id':1, 'head':'Click this part!', 'body':'This is main body contents!1'},\n",
        "    {'id':2, 'head':'Now, click this part!', 'body':'This is main body contents!2'},\n",
        "    {'id':3, 'head':'New part!', 'body':'This is main body contents!3'}\n",
        "]\n",
        "\n",
        "@app.route('/')\n",
        "def home():\n",
        "  liTags = ''\n",
        "  for click in clicks:\n",
        "    liTags = liTags + f'<li><a href=\"/read/{click[\"id\"]}\">{click[\"head\"]}</a></li>'\n",
        "  return f'''<!doctype html>\n",
        "  <html>\n",
        "      <body>\n",
        "        <h1>Welcome to your homepage</h1>\n",
        "        <ol>\n",
        "          {liTags}\n",
        "        </ol>\n",
        "  '''\n",
        "\n",
        "@app.route('/read/<id>/')\n",
        "def readid(id):\n",
        "  body = ''\n",
        "  body = body + f\"<h1>{clicks[int(id)-1]['body']}</h1>\"\n",
        "  return body\n",
        "\n",
        "app.run()"
      ]
    },
    {
      "cell_type": "markdown",
      "source": [
        "파이썬에서 함수를 생성하고 함수를 사용하듯 Template 함수를 만들어 HTML의 기본 형식을 지정하고 사용할 수 있다. "
      ],
      "metadata": {
        "id": "FYXwp_ZneS-k"
      }
    },
    {
      "cell_type": "code",
      "execution_count": 11,
      "metadata": {
        "id": "M5UPPHbOe00p",
        "colab": {
          "base_uri": "https://localhost:8080/"
        },
        "outputId": "dc7fbb00-547e-4d53-cff4-2cf01d172032"
      },
      "outputs": [
        {
          "output_type": "stream",
          "name": "stdout",
          "text": [
            " * Serving Flask app \"__main__\" (lazy loading)\n",
            " * Environment: production\n",
            "\u001b[31m   WARNING: This is a development server. Do not use it in a production deployment.\u001b[0m\n",
            "\u001b[2m   Use a production WSGI server instead.\u001b[0m\n",
            " * Debug mode: off\n"
          ]
        },
        {
          "output_type": "stream",
          "name": "stderr",
          "text": [
            "INFO:werkzeug: * Running on http://127.0.0.1:5000/ (Press CTRL+C to quit)\n"
          ]
        },
        {
          "output_type": "stream",
          "name": "stdout",
          "text": [
            " * Running on http://4cf9-35-221-33-212.ngrok.io\n",
            " * Traffic stats available on http://127.0.0.1:4040\n"
          ]
        }
      ],
      "source": [
        "app = Flask(__name__)\n",
        "run_with_ngrok(app)\n",
        "\n",
        "clicks = [\n",
        "    {'id':1, 'head':'Click this part!', 'body':'This is main body contents!1'},\n",
        "    {'id':2, 'head':'Now, click this part!', 'body':'This is main body contents!2'},\n",
        "    {'id':3, 'head':'New part!', 'body':'This is main body contents!3'}\n",
        "]\n",
        "\n",
        "def template(contents, content):\n",
        "  return f'''<!doctype html>\n",
        "  <html>\n",
        "    <body>\n",
        "      <h1>Welcome to your homepage</h1>\n",
        "      <ol>\n",
        "        {contents}\n",
        "      </ol>\n",
        "      {content}\n",
        "    </body>\n",
        "  </html>\n",
        "  '''\n",
        "\n",
        "def getContents():\n",
        "  liTags = ''\n",
        "  for click in clicks:\n",
        "    liTags = liTags + f'<li><a href=\"/read/{click[\"id\"]}\">{click[\"head\"]}</a></li>'\n",
        "  return liTags\n",
        "\n",
        "@app.route('/')\n",
        "def home():\n",
        "  return template(getContents(), '<h2>Welcome</h2>Hello, Users!')\n",
        "\n",
        "@app.route('/read/<id>/')\n",
        "def readid(id):\n",
        "  body = ''\n",
        "  body = body + f\"<h2>{clicks[int(id)-1]['body']}</h2>\"\n",
        "  return template(getContents(), body)\n",
        "\n",
        "app.run()"
      ]
    },
    {
      "cell_type": "code",
      "source": [
        "app = Flask(__name__)\n",
        "run_with_ngrok(app)\n",
        "\n",
        "clicks = [\n",
        "    {'id':1, 'head':'Click this part!', 'body':'This is main body contents!1'},\n",
        "    {'id':2, 'head':'Now, click this part!', 'body':'This is main body contents!2'},\n",
        "    {'id':3, 'head':'New part!', 'body':'This is main body contents!3'}\n",
        "]\n",
        "\n",
        "def template(contents, content):\n",
        "  return f'''<!doctype html>\n",
        "  <html>\n",
        "    <body>\n",
        "      <h1>Welcome to your homepage</h1>\n",
        "      <ol>\n",
        "        {contents}\n",
        "      </ol>\n",
        "      {content}\n",
        "    </body>\n",
        "  </html>\n",
        "  '''\n",
        "\n",
        "def getContents():\n",
        "  liTags = ''\n",
        "  for click in clicks:\n",
        "    liTags = liTags + f'<li><a href=\"/read/{click[\"id\"]}\">{click[\"head\"]}</a></li>'\n",
        "  return liTags\n",
        "\n",
        "@app.route('/')\n",
        "def home():\n",
        "  return template(getContents(), '<h2>Welcome</h2>Hello, Users!')\n",
        "\n",
        "@app.route('/read/<id>/')\n",
        "def readid(id):\n",
        "  body = ''\n",
        "  body = body + f\"<h2>{clicks[int(id)-1]['body']}</h2>\"\n",
        "  return template(getContents(), body)\n",
        "\n",
        "@app.route('/create/')\n",
        "def create():\n",
        "    content = '''\n",
        "    <form action=\"/create/\" method=\"GET\">\n",
        "      <p><input type=\"text\" name=\"title\" placeholder=\"title\"></p>\n",
        "      <p><textarea name=\"body\" placeholder=\"body\"></textarea></p>\n",
        "      <p><input type=\"submit\"></p>\n",
        "    </form>\n",
        "  '''\n",
        "    return template(getContents(), content)\n",
        "\n",
        "app.run()"
      ],
      "metadata": {
        "colab": {
          "base_uri": "https://localhost:8080/"
        },
        "id": "Yyf-L7jltFWd",
        "outputId": "97d7de84-ef85-4e18-add7-5919abc39243"
      },
      "execution_count": 12,
      "outputs": [
        {
          "output_type": "stream",
          "name": "stdout",
          "text": [
            " * Serving Flask app \"__main__\" (lazy loading)\n",
            " * Environment: production\n",
            "\u001b[31m   WARNING: This is a development server. Do not use it in a production deployment.\u001b[0m\n",
            "\u001b[2m   Use a production WSGI server instead.\u001b[0m\n",
            " * Debug mode: off\n"
          ]
        },
        {
          "output_type": "stream",
          "name": "stderr",
          "text": [
            "INFO:werkzeug: * Running on http://127.0.0.1:5000/ (Press CTRL+C to quit)\n"
          ]
        },
        {
          "output_type": "stream",
          "name": "stdout",
          "text": [
            " * Running on http://021c-35-221-33-212.ngrok.io\n",
            " * Traffic stats available on http://127.0.0.1:4040\n"
          ]
        }
      ]
    },
    {
      "cell_type": "markdown",
      "source": [],
      "metadata": {
        "id": "QaevgMONe-m1"
      }
    },
    {
      "cell_type": "code",
      "source": [
        "from flask import request"
      ],
      "metadata": {
        "id": "1ueHQRETsWUM"
      },
      "execution_count": 13,
      "outputs": []
    },
    {
      "cell_type": "code",
      "source": [
        "app = Flask(__name__)\n",
        "run_with_ngrok(app)\n",
        "\n",
        "clicks = [\n",
        "    {'id':1, 'head':'Click this part!', 'body':'This is main body contents!1'},\n",
        "    {'id':2, 'head':'Now, click this part!', 'body':'This is main body contents!2'},\n",
        "    {'id':3, 'head':'New part!', 'body':'This is main body contents!3'}\n",
        "]\n",
        "\n",
        "def template(contents, content):\n",
        "  return f'''<!doctype html>\n",
        "  <html>\n",
        "    <body>  \n",
        "      <h1>Welcome to your homepage</h1>\n",
        "      <ol>\n",
        "        {contents}\n",
        "      </ol>\n",
        "      {content}\n",
        "    </body>\n",
        "  </html>\n",
        "  '''\n",
        "\n",
        "def getContents():\n",
        "  liTags = ''\n",
        "  for click in clicks:\n",
        "    liTags = liTags + f'<li><a href=\"/read/{click[\"id\"]}\">{click[\"head\"]}</a></li>'\n",
        "  return liTags\n",
        "\n",
        "@app.route('/')\n",
        "def home():\n",
        "  return template(getContents(), '<h2>Welcome</h2>Hello, Users!')\n",
        "\n",
        "@app.route('/read/<id>/')\n",
        "def readid(id):\n",
        "  body = ''\n",
        "  body = body + f\"<h2>{clicks[int(id)-1]['body']}</h2>\"\n",
        "  return template(getContents(), body)\n",
        "\n",
        "@app.route('/create/', methods=['GET', 'POST'])\n",
        "def create():\n",
        "  if request.method == \"GET\":\n",
        "    content = '''\n",
        "      <form action=\"/create/\" method=\"POST\">\n",
        "        <p><input type=\"text\" name=\"title\" placeholder=\"title\"></p>\n",
        "        <p><textarea name=\"body\" placeholder=\"body\"></textarea></p>\n",
        "        <p><input type=\"submit\"></p>\n",
        "      </form>\n",
        "    '''\n",
        "    return template(getContents(), content)\n",
        "  elif request.method == \"POST\":\n",
        "    return 'Title and Body Saved!'\n",
        "\n",
        "app.run()"
      ],
      "metadata": {
        "colab": {
          "base_uri": "https://localhost:8080/"
        },
        "id": "oBzNi7FCqFWc",
        "outputId": "f0a1d3da-ad84-4a73-d043-759c2f1aa165"
      },
      "execution_count": 14,
      "outputs": [
        {
          "output_type": "stream",
          "name": "stdout",
          "text": [
            " * Serving Flask app \"__main__\" (lazy loading)\n",
            " * Environment: production\n",
            "\u001b[31m   WARNING: This is a development server. Do not use it in a production deployment.\u001b[0m\n",
            "\u001b[2m   Use a production WSGI server instead.\u001b[0m\n",
            " * Debug mode: off\n"
          ]
        },
        {
          "output_type": "stream",
          "name": "stderr",
          "text": [
            "INFO:werkzeug: * Running on http://127.0.0.1:5000/ (Press CTRL+C to quit)\n"
          ]
        },
        {
          "output_type": "stream",
          "name": "stdout",
          "text": [
            " * Running on http://1d9e-35-221-33-212.ngrok.io\n",
            " * Traffic stats available on http://127.0.0.1:4040\n"
          ]
        }
      ]
    },
    {
      "cell_type": "markdown",
      "source": [
        "# 이전 수업에 나온 BERT 모델 살펴보기\n"
      ],
      "metadata": {
        "id": "felhi6kRhEVC"
      }
    },
    {
      "cell_type": "code",
      "source": [
        "from google.colab import drive\n",
        "\n",
        "drive.mount(\"/content/drive\")"
      ],
      "metadata": {
        "colab": {
          "base_uri": "https://localhost:8080/"
        },
        "id": "bKkS1MGtdxPq",
        "outputId": "c0ba84e5-c3f9-4538-b2d8-726ad9e559dc"
      },
      "execution_count": 15,
      "outputs": [
        {
          "output_type": "stream",
          "name": "stdout",
          "text": [
            "Drive already mounted at /content/drive; to attempt to forcibly remount, call drive.mount(\"/content/drive\", force_remount=True).\n"
          ]
        }
      ]
    },
    {
      "cell_type": "code",
      "execution_count": 16,
      "metadata": {
        "id": "DNPNQZlrsAWU",
        "colab": {
          "base_uri": "https://localhost:8080/"
        },
        "outputId": "97c1dc86-efab-4f64-f551-6987b1d70f52"
      },
      "outputs": [
        {
          "output_type": "stream",
          "name": "stdout",
          "text": [
            "/content/drive/MyDrive\n"
          ]
        }
      ],
      "source": [
        "%cd /content/drive/MyDrive"
      ]
    },
    {
      "cell_type": "code",
      "source": [
        "!pip install -q transformers"
      ],
      "metadata": {
        "colab": {
          "base_uri": "https://localhost:8080/"
        },
        "id": "l3wLXFRDely5",
        "outputId": "1cd70d96-d5f7-4fbd-bb74-577c03228b0a"
      },
      "execution_count": 17,
      "outputs": [
        {
          "output_type": "stream",
          "name": "stdout",
          "text": [
            "\u001b[K     |████████████████████████████████| 5.5 MB 25.8 MB/s \n",
            "\u001b[K     |████████████████████████████████| 7.6 MB 47.3 MB/s \n",
            "\u001b[K     |████████████████████████████████| 182 kB 52.9 MB/s \n",
            "\u001b[?25h"
          ]
        }
      ]
    },
    {
      "cell_type": "code",
      "execution_count": 18,
      "metadata": {
        "id": "j2l2aRr_lRVi"
      },
      "outputs": [],
      "source": [
        "from make_answer import *"
      ]
    },
    {
      "cell_type": "code",
      "source": [
        "# my model 경로 설정해주세요!\n",
        "model_path = \"/content/drive/MyDrive/my_model-20221119T002258Z-001/my_model\"\n",
        "trainer, tokenizer = load_model(model_path)"
      ],
      "metadata": {
        "colab": {
          "base_uri": "https://localhost:8080/"
        },
        "id": "tjteuw9Ge--0",
        "outputId": "a66cb0ab-6424-43ea-e7f0-4c7ca07750f6"
      },
      "execution_count": 19,
      "outputs": [
        {
          "output_type": "stream",
          "name": "stderr",
          "text": [
            "loading file vocab.txt\n",
            "loading file tokenizer.json\n",
            "loading file added_tokens.json\n",
            "loading file special_tokens_map.json\n",
            "loading file tokenizer_config.json\n"
          ]
        }
      ]
    },
    {
      "cell_type": "code",
      "source": [
        "answer = answer_system(trainer, tokenizer, \"관광지 좀 추천해줘\")"
      ],
      "metadata": {
        "id": "Tsiva6qvfYRM"
      },
      "execution_count": 20,
      "outputs": []
    },
    {
      "cell_type": "code",
      "source": [
        "print(answer)"
      ],
      "metadata": {
        "colab": {
          "base_uri": "https://localhost:8080/"
        },
        "id": "CxVFx0mlfjUp",
        "outputId": "44e9bf82-b223-4c62-b369-525c5ee8638f"
      },
      "execution_count": 21,
      "outputs": [
        {
          "output_type": "stream",
          "name": "stdout",
          "text": [
            "이번 봄, 아르떼 뮤지엄 가 보시는 건 어때요?\n"
          ]
        }
      ]
    },
    {
      "cell_type": "code",
      "source": [
        "app = Flask(__name__)\n",
        "run_with_ngrok(app)\n",
        "\n",
        "@app.route('/')\n",
        "def man():\n",
        "  return \"\"\"\n",
        "\n",
        "  <html>\n",
        "    <head>\n",
        "      <style>\n",
        "        #container {\n",
        "          display: flex;\n",
        "          justify-content: center;\n",
        "          align-items: center;\n",
        "        }\n",
        "      </style>\n",
        "    <head>\n",
        "\n",
        "    <body bgcolor=#F5F5DC id=\"container\">\n",
        "\n",
        "      <center>\n",
        "\n",
        "        <h1> 제주 관광 챗봇 </h1><br>\n",
        "        <h3> 안녕하세요, 무엇을 도와드릴까요? </h3><br>\n",
        "          <form method=\"POST\", action=\"/predict\">\n",
        "            <b> 질문을 입력해주세요 :  <input type=\"text\", name='a', placeholder=\"sentence\"> <br><br>\n",
        "              <input type=\"submit\" , value='입력 완료' >\n",
        "          </form>\n",
        "      \n",
        "      </center>\n",
        "\n",
        "    </body>\n",
        "</html>\n",
        "\"\"\"\n",
        "    # return render_template('home.html')\n",
        "\n",
        "\n",
        "@app.route('/predict', methods=['POST'])\n",
        "def home():\n",
        "    data1 = request.form['a']\n",
        "    pred = answer_system(trainer, tokenizer, data1)\n",
        "\n",
        "    return f\"\"\"\n",
        "      <html>\n",
        "    <head>\n",
        "      <style>\n",
        "        #container {{\n",
        "          display: flex;\n",
        "          justify-content: center;\n",
        "          align-items: center;\n",
        "          text-align: left;\n",
        "          left: 50%;\n",
        "        }}\n",
        "      </style>\n",
        "    <head>\n",
        "\n",
        "    <body bgcolor=#F5F5DC id=\"container\">\n",
        "\n",
        "      <center>\n",
        "\n",
        "        <h1> 제주 관광 챗봇 </h1><br>\n",
        "        <h4> 추가 질문을 원하시면 새로 문장을 입력해주세요. </h4><br>\n",
        "          <form method=\"POST\", action=\"/predict\">\n",
        "            <b> 질문을 입력해주세요 :  <input type=\"text\", name='a', placeholder=\"추가 질문\"> <br><br>\n",
        "              <input type=\"submit\" , value='입력 완료' >\n",
        "          </form>\n",
        "      \n",
        "      <h2> {pred} </h2>\n",
        "      </center>\n",
        "\n",
        "    </body>\n",
        "</html>\n",
        "\"\"\"\n",
        "\n",
        "if __name__ == \"__main__\":\n",
        "    app.run()"
      ],
      "metadata": {
        "colab": {
          "base_uri": "https://localhost:8080/"
        },
        "id": "azEjrW_Dflfs",
        "outputId": "9bd70e97-eded-40dd-a621-2c0c84041fb4"
      },
      "execution_count": 23,
      "outputs": [
        {
          "output_type": "stream",
          "name": "stdout",
          "text": [
            " * Serving Flask app \"__main__\" (lazy loading)\n",
            " * Environment: production\n",
            "\u001b[31m   WARNING: This is a development server. Do not use it in a production deployment.\u001b[0m\n",
            "\u001b[2m   Use a production WSGI server instead.\u001b[0m\n",
            " * Debug mode: off\n"
          ]
        },
        {
          "output_type": "stream",
          "name": "stderr",
          "text": [
            "INFO:werkzeug: * Running on http://127.0.0.1:5000/ (Press CTRL+C to quit)\n"
          ]
        },
        {
          "output_type": "stream",
          "name": "stdout",
          "text": [
            " * Running on http://aee7-35-221-33-212.ngrok.io\n",
            " * Traffic stats available on http://127.0.0.1:4040\n"
          ]
        },
        {
          "output_type": "stream",
          "name": "stderr",
          "text": [
            "INFO:werkzeug:127.0.0.1 - - [19/Nov/2022 06:15:59] \"\u001b[37mGET / HTTP/1.1\u001b[0m\" 200 -\n",
            "INFO:werkzeug:127.0.0.1 - - [19/Nov/2022 06:15:59] \"\u001b[33mGET /favicon.ico HTTP/1.1\u001b[0m\" 404 -\n",
            "INFO:werkzeug:127.0.0.1 - - [19/Nov/2022 06:16:25] \"\u001b[37mPOST /predict HTTP/1.1\u001b[0m\" 200 -\n"
          ]
        }
      ]
    }
  ],
  "metadata": {
    "colab": {
      "provenance": [],
      "include_colab_link": true
    },
    "kernelspec": {
      "display_name": "Python 3",
      "name": "python3"
    },
    "language_info": {
      "name": "python"
    }
  },
  "nbformat": 4,
  "nbformat_minor": 0
}